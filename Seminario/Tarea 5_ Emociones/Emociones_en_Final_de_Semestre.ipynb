{
  "nbformat": 4,
  "nbformat_minor": 0,
  "metadata": {
    "colab": {
      "provenance": []
    },
    "kernelspec": {
      "name": "python3",
      "display_name": "Python 3"
    },
    "language_info": {
      "name": "python"
    }
  },
  "cells": [
    {
      "cell_type": "code",
      "execution_count": 46,
      "metadata": {
        "colab": {
          "base_uri": "https://localhost:8080/"
        },
        "id": "BDefFcTlwEVv",
        "outputId": "cef62833-af5b-47eb-9bd1-2e0c885fbde1"
      },
      "outputs": [
        {
          "output_type": "stream",
          "name": "stdout",
          "text": [
            "Requirement already satisfied: nltk in /usr/local/lib/python3.11/dist-packages (3.9.1)\n",
            "Requirement already satisfied: click in /usr/local/lib/python3.11/dist-packages (from nltk) (8.1.8)\n",
            "Requirement already satisfied: joblib in /usr/local/lib/python3.11/dist-packages (from nltk) (1.4.2)\n",
            "Requirement already satisfied: regex>=2021.8.3 in /usr/local/lib/python3.11/dist-packages (from nltk) (2024.11.6)\n",
            "Requirement already satisfied: tqdm in /usr/local/lib/python3.11/dist-packages (from nltk) (4.67.1)\n"
          ]
        }
      ],
      "source": [
        "# Instalar las librerías necesarias\n",
        "!pip install nltk\n"
      ]
    },
    {
      "cell_type": "code",
      "source": [
        "# Importar librerías\n",
        "import nltk\n",
        "from nltk.sentiment import SentimentIntensityAnalyzer\n",
        "import pandas as pd\n",
        "\n",
        "# Descargar los recursos necesarios de NLTK\n",
        "nltk.download('vader_lexicon')\n",
        "\n",
        "# Inicializar el analizador de sentimientos\n",
        "sia = SentimentIntensityAnalyzer()\n",
        "\n",
        "# Ejemplo de respuestas de los estudiantes\n",
        "respuestas = [\n",
        "    \"Me siento muy motivado con lo aprendido en este semestre. Ha sido un buen reto.\",\n",
        "    \"Este semestre estuvo muy difícil, no aprendí lo que esperaba.\",\n",
        "    \"Me gustó mucho la enseñanza, pero algunos temas fueron complicados.\",\n",
        "    \"Estoy decepcionado por el desempeño del curso, no pude entender nada.\",\n",
        "    \"Fue un semestre increíble, todo estuvo bien organizado y aprendí mucho.\",\n",
        "    \"El curso fue promedio, ni bueno ni malo, simplemente aceptable.\"\n",
        "]\n",
        "\n",
        "# Analizar el sentimiento de cada respuesta\n",
        "resultados = []\n",
        "\n",
        "for respuesta in respuestas:\n",
        "    puntaje = sia.polarity_scores(respuesta)  # Obtener el puntaje de sentimientos\n",
        "    # Clasificación con tres niveles: Positivo, Neutro, Negativo\n",
        "    if puntaje['compound'] > 0.1:\n",
        "        sentimiento = \"Positivo\"\n",
        "    elif puntaje['compound'] < -0.1:\n",
        "        sentimiento = \"Negativo\"\n",
        "    else:\n",
        "        sentimiento = \"Neutro\"\n",
        "\n",
        "    resultados.append({\n",
        "        \"Respuesta\": respuesta,\n",
        "        \"Puntaje de Sentimiento\": puntaje,\n",
        "        \"Sentimiento\": sentimiento\n",
        "    })\n",
        "\n",
        "# Convertir los resultados a un DataFrame de Pandas\n",
        "df_resultados = pd.DataFrame(resultados)\n",
        "\n",
        "# Mostrar los resultados\n",
        "print(df_resultados)\n"
      ],
      "metadata": {
        "colab": {
          "base_uri": "https://localhost:8080/"
        },
        "id": "LWcJV9tYWmBG",
        "outputId": "83631588-feb4-45d2-b56e-ab20cac7f765"
      },
      "execution_count": 47,
      "outputs": [
        {
          "output_type": "stream",
          "name": "stdout",
          "text": [
            "                                           Respuesta  \\\n",
            "0  Me siento muy motivado con lo aprendido en est...   \n",
            "1  Este semestre estuvo muy difícil, no aprendí l...   \n",
            "2  Me gustó mucho la enseñanza, pero algunos tema...   \n",
            "3  Estoy decepcionado por el desempeño del curso,...   \n",
            "4  Fue un semestre increíble, todo estuvo bien or...   \n",
            "5  El curso fue promedio, ni bueno ni malo, simpl...   \n",
            "\n",
            "                              Puntaje de Sentimiento Sentimiento  \n",
            "0  {'neg': 0.0, 'neu': 0.854, 'pos': 0.146, 'comp...    Positivo  \n",
            "1  {'neg': 0.196, 'neu': 0.804, 'pos': 0.0, 'comp...    Negativo  \n",
            "2  {'neg': 0.0, 'neu': 1.0, 'pos': 0.0, 'compound...      Neutro  \n",
            "3  {'neg': 0.18, 'neu': 0.82, 'pos': 0.0, 'compou...    Negativo  \n",
            "4  {'neg': 0.0, 'neu': 1.0, 'pos': 0.0, 'compound...      Neutro  \n",
            "5  {'neg': 0.0, 'neu': 1.0, 'pos': 0.0, 'compound...      Neutro  \n"
          ]
        },
        {
          "output_type": "stream",
          "name": "stderr",
          "text": [
            "[nltk_data] Downloading package vader_lexicon to /root/nltk_data...\n",
            "[nltk_data]   Package vader_lexicon is already up-to-date!\n"
          ]
        }
      ]
    }
  ]
}